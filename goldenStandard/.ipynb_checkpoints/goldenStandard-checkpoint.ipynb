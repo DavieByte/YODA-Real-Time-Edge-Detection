{
 "cells": [
  {
   "cell_type": "code",
   "execution_count": 1,
   "metadata": {
    "colab": {
     "base_uri": "https://localhost:8080/"
    },
    "id": "nvcXhjSzYgxt",
    "outputId": "7492db8b-5a12-493a-f021-3546a7cfdff3"
   },
   "outputs": [],
   "source": [
    "# Place all necessary imports here\n",
    "import numpy as np\n",
    "from matplotlib import pyplot as plt\n",
    "import matplotlib.image\n",
    "import cv2\n",
    "from pytictoc import TicToc"
   ]
  },
  {
   "cell_type": "code",
   "execution_count": 2,
   "metadata": {},
   "outputs": [],
   "source": [
    "# Function that converts a video into its separate image frames\n",
    "# and returns it as an array of image frames of both colour and gray\n",
    "def processVideo(videoName):\n",
    "    # Extracting video metadata\n",
    "    video = cv2.VideoCapture(videoName)\n",
    "    fps = int(video.get(cv2.CAP_PROP_FPS))\n",
    "    total_frames = int(video.get(cv2.CAP_PROP_FRAME_COUNT))\n",
    "    duration = int(total_frames/fps)\n",
    "    width  = int(video.get(cv2.CAP_PROP_FRAME_WIDTH))   \n",
    "    height = int(video.get(cv2.CAP_PROP_FRAME_HEIGHT))\n",
    "    colour_frames = np.zeros([total_frames, height, width, 3], dtype = int)\n",
    "    gray_frames = np.zeros([total_frames, height, width], dtype = int)\n",
    "    \n",
    "    # Printing video metadata\n",
    "    print(\"FPS:\", fps)\n",
    "    print(\"Total frames:\", total_frames)\n",
    "    print(\"Duration:\", duration, \"seconds\")\n",
    "    print(\"Frame width:\", width, \"pixels\")\n",
    "    print(\"Frame height:\", height, \"pixels\")\n",
    "    \n",
    "    # Loading image frames into output array and immediately converting to gray scale\n",
    "    for frame_num in range(total_frames):\n",
    "        # Getting frame at frame_num\n",
    "        video.set(cv2.CAP_PROP_POS_FRAMES, frame_num)\n",
    "        ret, frame = video.read() \n",
    "        # Storing image into output arrays\n",
    "        colour_frames[frame_num] = frame\n",
    "        gray_frames[frame_num] = cv2.cvtColor(frame, cv2.COLOR_RGB2GRAY)\n",
    "          \n",
    "    return colour_frames, gray_frames"
   ]
  },
  {
   "cell_type": "code",
   "execution_count": 3,
   "metadata": {},
   "outputs": [],
   "source": [
    "# Writing 1st frame of the video data to text file\n",
    "def write2textFile(img, colour):\n",
    "    total_frames = 448\n",
    "    height = 226 \n",
    "    width = 400\n",
    "    \n",
    "    # Writing colour frame to file\n",
    "    if(colour == 'rgb'):\n",
    "        with open(\"colourFrame.txt\", \"w\") as c_file:\n",
    "            for y in range(height):              # Iterates over image pixel rows\n",
    "                for x in range(width):           # Iterates over image pixel columns\n",
    "                    # Writing RGB as one value and converting to HEX\n",
    "                    pixel = format(img[y][x][0], '02x') + format(colour_frames[frame_num][y][x][1], '02x') + format(colour_frames[frame_num][y][x][2], '02x')\n",
    "                    c_file.write(pixel)\n",
    "                    c_file.write('\\n')    \n",
    "        c_file.close()\n",
    "     \n",
    "    # Writing grayscale frame to file\n",
    "    if(colour == 'gray'):\n",
    "        with open(\"grayFrame.txt\", \"w\") as g_file:\n",
    "            for y in range(height):              # Iterates over image pixel rows\n",
    "                for x in range(width):           # Iterates over image pixel columns\n",
    "                    pixel = format(img[y][x], '02x')\n",
    "                    g_file.write(pixel)\n",
    "                    g_file.write('\\n')    \n",
    "        g_file.close()   \n",
    "        \n",
    "    \n",
    "        \n",
    "    print(\"Frame data is saved to file\")\n",
    "    "
   ]
  },
  {
   "cell_type": "code",
   "execution_count": 4,
   "metadata": {},
   "outputs": [],
   "source": [
    "def text2array(file, img):\n",
    "    frameSize = img.shape[0]*img.shape[1]\n",
    "    with open(file, \"r\") as inFile:\n",
    "        for y in range(img.shape[0]):\n",
    "            for x in range(img.shape[1]):\n",
    "                temp = inFile.readline()\n",
    "                pixel = temp.split('\\\\n')\n",
    "                img[y][x] = int(pixel[0], 16)\n",
    "    return img        \n",
    "                "
   ]
  },
  {
   "cell_type": "code",
   "execution_count": 5,
   "metadata": {
    "id": "4lzdASNeZXOX"
   },
   "outputs": [],
   "source": [
    "# A function that applies a median noise filter over the \n",
    "# grayscaled image and returns the filtered image as a 2D array \n",
    "\n",
    "# Uses a 3x3 kernel over the image during the filtering process\n",
    "def median_filter(img):\n",
    "    # initializing the output image arrays\n",
    "    output = np.zeros_like(img)  \n",
    "    for i in range(1, img.shape[0] - 1): # loop for the x-axis\n",
    "        for j in range(1, img.shape[1] - 1): # loop for the y-axis\n",
    "            # placing the pixels into a 1D kernal using ravel  \n",
    "            kernel = np.ravel(img[i - 1: i + 2, j - 1: j + 2])  \n",
    "            # sorting the kernel array then taking the 5th value \n",
    "            # which is the median value index of the kernal (3x3 => 1x9)\n",
    "            # then placing result into the output image array\n",
    "            output[i][j] = np.sort(kernel)[4]\n",
    "    return output     "
   ]
  },
  {
   "cell_type": "code",
   "execution_count": 6,
   "metadata": {
    "id": "KMMKetDc1lIh"
   },
   "outputs": [],
   "source": [
    "# A functions that detects the initial edges of a \n",
    "# given image frame and returns a 2D array of the image\n",
    "\n",
    "# The values of the output array represent the magnitudes \n",
    "# of the gradients computed within the image\n",
    "\n",
    "def sobel_operator(img):\n",
    "    # initializing the output array\n",
    "    output = np.zeros_like(img)\n",
    "\n",
    "    # defining the sobel x & y kernels\n",
    "    xsobel = np.array([[-1, 0, 1],\n",
    "                         [-2, 0, 2],\n",
    "                         [-1, 0, 1]])\n",
    "\n",
    "    ysobel = np.array([[-1, -2, 1],\n",
    "                         [ 0,  0, 0],\n",
    "                         [ 1,  2, 1]])\n",
    "\n",
    "    for i in range(img.shape[0] - 2): # loop for x-axis\n",
    "        for j in range(img.shape[1] - 2): # loop for y-axis\n",
    "            gx = np.sum(np.multiply(xsobel, img[i:i + 3, j:j + 3])) # x derivative\n",
    "            gy = np.sum(np.multiply(ysobel, img[i:i + 3, j:j + 3])) # y derivative\n",
    "            # storing the magnitude of the calculated gradients \n",
    "            # and storing it into the output image array\n",
    "            output[i + 1, j + 1] = np.sqrt((gx ** 2) + (gy ** 2)) \n",
    "\n",
    "    return output.astype(int) # forcing it to int type"
   ]
  },
  {
   "cell_type": "code",
   "execution_count": 7,
   "metadata": {
    "id": "7OpcKH9S3H0T",
    "scrolled": true
   },
   "outputs": [
    {
     "name": "stdout",
     "output_type": "stream",
     "text": [
      "FPS: 60\n",
      "Total frames: 448\n",
      "Duration: 7 seconds\n",
      "Frame width: 400 pixels\n",
      "Frame height: 226 pixels\n"
     ]
    }
   ],
   "source": [
    "\"\"\"\"\n",
    "Implementing all the functions from above to convert \n",
    "an inputted video into and outputs a video displaying\n",
    "all the edges that were detected\n",
    "\"\"\"\n",
    "# Loading in video and converting it to its separate image frames\n",
    "colour_frames, gray_frames = processVideo(\"sample_video.mp4\")"
   ]
  },
  {
   "cell_type": "code",
   "execution_count": 8,
   "metadata": {},
   "outputs": [
    {
     "name": "stdout",
     "output_type": "stream",
     "text": [
      "Frame data is saved to file\n"
     ]
    }
   ],
   "source": [
    "# Writing first grayscale frame of the video into text files\n",
    "write2textFile(gray_frames[0], 'gray')"
   ]
  },
  {
   "cell_type": "code",
   "execution_count": 9,
   "metadata": {},
   "outputs": [],
   "source": [
    "# Instantiating instance of TicToc class\n",
    "t = TicToc()"
   ]
  },
  {
   "cell_type": "code",
   "execution_count": 23,
   "metadata": {},
   "outputs": [
    {
     "name": "stdout",
     "output_type": "stream",
     "text": [
      "Loading in image data took 0.119278 seconds.\n"
     ]
    }
   ],
   "source": [
    "# Reading in frame data from text file and storing it into an array\n",
    "t.tic()\n",
    "img = np.zeros([226, 400], dtype = int)\n",
    "img = text2array(\"grayFrame.txt\", img)\n",
    "t.toc('Loading in image data took')"
   ]
  },
  {
   "cell_type": "code",
   "execution_count": 26,
   "metadata": {},
   "outputs": [
    {
     "name": "stdout",
     "output_type": "stream",
     "text": [
      "Median filtering took 0.885655 seconds.\n"
     ]
    }
   ],
   "source": [
    "# Applying median filter over image frame\n",
    "t.tic()\n",
    "med = median_filter(img)\n",
    "t.toc('Median filtering took')"
   ]
  },
  {
   "cell_type": "code",
   "execution_count": 29,
   "metadata": {},
   "outputs": [
    {
     "name": "stdout",
     "output_type": "stream",
     "text": [
      "Finding edges took 2.577589 seconds.\n"
     ]
    }
   ],
   "source": [
    "# Applying sobel operator over image frame\n",
    "t.tic()\n",
    "sob = sobel_operator(med)\n",
    "t.toc('Finding edges took')"
   ]
  },
  {
   "cell_type": "code",
   "execution_count": 30,
   "metadata": {},
   "outputs": [],
   "source": [
    "matplotlib.image.imsave('output.png', sob)"
   ]
  },
  {
   "cell_type": "code",
   "execution_count": null,
   "metadata": {},
   "outputs": [],
   "source": [
    "# Comparing the outout image frames between the Python and Verilog implementations\n",
    "\n",
    "# Loading in data from Verilog image frame\n",
    "v_img = np.zeros_like(sob)\n",
    "text2array(\"outGrayFrame.txt\", v_img)\n",
    "    "
   ]
  }
 ],
 "metadata": {
  "colab": {
   "provenance": []
  },
  "kernelspec": {
   "display_name": "Python 3",
   "language": "python",
   "name": "python3"
  },
  "language_info": {
   "codemirror_mode": {
    "name": "ipython",
    "version": 3
   },
   "file_extension": ".py",
   "mimetype": "text/x-python",
   "name": "python",
   "nbconvert_exporter": "python",
   "pygments_lexer": "ipython3",
   "version": "3.8.8"
  }
 },
 "nbformat": 4,
 "nbformat_minor": 1
}
